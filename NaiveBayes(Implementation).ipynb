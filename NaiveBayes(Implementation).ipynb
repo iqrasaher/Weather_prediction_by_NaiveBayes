{
  "nbformat": 4,
  "nbformat_minor": 0,
  "metadata": {
    "colab": {
      "name": "NaiveBayes(Implementation).ipynb",
      "provenance": [],
      "collapsed_sections": []
    },
    "kernelspec": {
      "name": "python3",
      "display_name": "Python 3"
    },
    "language_info": {
      "name": "python"
    }
  },
  "cells": [
    {
      "cell_type": "markdown",
      "metadata": {
        "id": "ukgHPhhbkl6n"
      },
      "source": [
        "#Naive Bayes in python using Scikit Learn"
      ]
    },
    {
      "cell_type": "code",
      "metadata": {
        "colab": {
          "base_uri": "https://localhost:8080/"
        },
        "id": "tsFl95Cpkk0H",
        "outputId": "5d9f3c1a-2120-4162-d925-1c8f7fa937f8"
      },
      "source": [
        "!pip install scikit-learn\n"
      ],
      "execution_count": 1,
      "outputs": [
        {
          "output_type": "stream",
          "text": [
            "Requirement already satisfied: scikit-learn in /usr/local/lib/python3.7/dist-packages (0.22.2.post1)\n",
            "Requirement already satisfied: numpy>=1.11.0 in /usr/local/lib/python3.7/dist-packages (from scikit-learn) (1.19.5)\n",
            "Requirement already satisfied: joblib>=0.11 in /usr/local/lib/python3.7/dist-packages (from scikit-learn) (1.0.1)\n",
            "Requirement already satisfied: scipy>=0.17.0 in /usr/local/lib/python3.7/dist-packages (from scikit-learn) (1.4.1)\n"
          ],
          "name": "stdout"
        }
      ]
    },
    {
      "cell_type": "code",
      "metadata": {
        "colab": {
          "base_uri": "https://localhost:8080/"
        },
        "id": "Dqi234jYkrtw",
        "outputId": "29527b4d-2eaa-450a-f40b-33602b6589c8"
      },
      "source": [
        "!pip install numpy"
      ],
      "execution_count": 2,
      "outputs": [
        {
          "output_type": "stream",
          "text": [
            "Requirement already satisfied: numpy in /usr/local/lib/python3.7/dist-packages (1.19.5)\n"
          ],
          "name": "stdout"
        }
      ]
    },
    {
      "cell_type": "code",
      "metadata": {
        "id": "ohLoJAeBlAFC"
      },
      "source": [
        "import numpy as np\n",
        "from sklearn.naive_bayes import GaussianNB\n",
        "from sklearn import preprocessing"
      ],
      "execution_count": 3,
      "outputs": []
    },
    {
      "cell_type": "code",
      "metadata": {
        "id": "caIZBNqYl1pE"
      },
      "source": [
        "dataset = np.array([\n",
        "                    ['overcast','hot','high','FALSE','yes'],\n",
        "['overcast','cool','normal','TRUE','yes'],\n",
        "['overcast','mild','high','TRUE','yes'],\n",
        "['overcast','hot','normal','FALSE','yes'],\n",
        "['rainy','mild','high','FALSE','yes'],\n",
        "['rainy','cool','normal','FALSE','yes'],\n",
        "['rainy','cool','normal','TRUE','no'],\n",
        "['rainy','mild','normal','FALSE','yes'],\n",
        "['rainy','mild','high','TRUE','no'],\n",
        "['sunny','hot','high','FALSE','no'],\n",
        "['sunny','hot','high','TRUE','no'],\n",
        "['sunny','mild','high','FALSE','no'],\n",
        "['sunny','cool','normal','FALSE','yes'],\n",
        "['sunny','mild','normal','TRUE','yes']\n",
        "\n",
        "])"
      ],
      "execution_count": 4,
      "outputs": []
    },
    {
      "cell_type": "code",
      "metadata": {
        "id": "rPuuJll2mHff"
      },
      "source": [
        "Features=dataset[:,0:-1]\n"
      ],
      "execution_count": 5,
      "outputs": []
    },
    {
      "cell_type": "code",
      "metadata": {
        "colab": {
          "base_uri": "https://localhost:8080/"
        },
        "id": "V-o5ZpdXmSSQ",
        "outputId": "667178bc-e0d5-4d53-b1bf-7edb06ba199d"
      },
      "source": [
        "print(Features)"
      ],
      "execution_count": 6,
      "outputs": [
        {
          "output_type": "stream",
          "text": [
            "[['overcast' 'hot' 'high' 'FALSE']\n",
            " ['overcast' 'cool' 'normal' 'TRUE']\n",
            " ['overcast' 'mild' 'high' 'TRUE']\n",
            " ['overcast' 'hot' 'normal' 'FALSE']\n",
            " ['rainy' 'mild' 'high' 'FALSE']\n",
            " ['rainy' 'cool' 'normal' 'FALSE']\n",
            " ['rainy' 'cool' 'normal' 'TRUE']\n",
            " ['rainy' 'mild' 'normal' 'FALSE']\n",
            " ['rainy' 'mild' 'high' 'TRUE']\n",
            " ['sunny' 'hot' 'high' 'FALSE']\n",
            " ['sunny' 'hot' 'high' 'TRUE']\n",
            " ['sunny' 'mild' 'high' 'FALSE']\n",
            " ['sunny' 'cool' 'normal' 'FALSE']\n",
            " ['sunny' 'mild' 'normal' 'TRUE']]\n"
          ],
          "name": "stdout"
        }
      ]
    },
    {
      "cell_type": "code",
      "metadata": {
        "id": "XymTaH9vmWms"
      },
      "source": [
        "enc=preprocessing.OrdinalEncoder()\n",
        "enc.fit(Features)\n",
        "features=enc.transform(Features)\n"
      ],
      "execution_count": 12,
      "outputs": []
    },
    {
      "cell_type": "code",
      "metadata": {
        "id": "48WGR8awnq7_"
      },
      "source": [
        "#print(features)"
      ],
      "execution_count": 14,
      "outputs": []
    },
    {
      "cell_type": "code",
      "metadata": {
        "colab": {
          "base_uri": "https://localhost:8080/"
        },
        "id": "lp_ynca9oL6j",
        "outputId": "ce15bf58-d8a5-4f7f-bca2-cbc4046f03a7"
      },
      "source": [
        "targets = dataset[:,-1]\n",
        "print(targets)"
      ],
      "execution_count": 39,
      "outputs": [
        {
          "output_type": "stream",
          "text": [
            "['yes' 'yes' 'yes' 'yes' 'yes' 'yes' 'no' 'yes' 'no' 'no' 'no' 'no' 'yes'\n",
            " 'yes']\n"
          ],
          "name": "stdout"
        }
      ]
    },
    {
      "cell_type": "code",
      "metadata": {
        "id": "3K8WUp-zopih"
      },
      "source": [
        "model = GaussianNB()\n",
        "fitted= model.fit(features,targets)\n",
        "#print(fitted)"
      ],
      "execution_count": 35,
      "outputs": []
    },
    {
      "cell_type": "code",
      "metadata": {
        "id": "_xK6aLfUpHW3"
      },
      "source": [
        "newday =np.array([[\"sunny\",\"cool\",\"normal\",\"TRUE\"]])\n"
      ],
      "execution_count": 41,
      "outputs": []
    },
    {
      "cell_type": "code",
      "metadata": {
        "colab": {
          "base_uri": "https://localhost:8080/"
        },
        "id": "knVcjnfEpeUJ",
        "outputId": "7fc166b5-ea2d-494f-a8cd-c416f9d2f6da"
      },
      "source": [
        "prediction = fitted.predict(enc.transform(newday))\n",
        "print(prediction)"
      ],
      "execution_count": 43,
      "outputs": [
        {
          "output_type": "stream",
          "text": [
            "['yes']\n"
          ],
          "name": "stdout"
        }
      ]
    }
  ]
}